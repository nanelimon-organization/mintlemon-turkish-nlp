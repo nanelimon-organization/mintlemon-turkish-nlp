{
 "cells": [
  {
   "cell_type": "markdown",
   "metadata": {},
   "source": [
    "# Turkish Spell Checking with Hunspell\n",
    "\n",
    "In this notebook, we demonstrate the use of the `TurkishSpellChecker` class for spell checking and correction of Turkish texts. This class utilizes the Hunspell spell checker to identify and correct misspelled words in Turkish texts. We focus on the use of the 'ours' dataset for spell checking, which has been found to be more successful according to the comparison available at [https://mukayese.tdd.ai/#/tasks/spellchecking](https://mukayese.tdd.ai/#/tasks/spellchecking).\n",
    "\n",
    "## Setup\n",
    "\n",
    "First, we need to import the `TurkishSpellChecker` class from the `mintlemon.turkish_spellcheck` module.\n",
    "\n",
    "```python\n",
    "from mintlemon.turkish_spellcheck import TurkishSpellChecker\n",
    "```\n",
    "\n",
    "## Spell Checking and Correction\n",
    "Now, let's check and correct a sample Turkish text. We will use the default checker ('ours') for this purpose.\n",
    "\n",
    "### Sample Text\n",
    "Consider the following text, which contains a spelling mistake:\n",
    "\n",
    "```python\n",
    "sample_text = \"Seni gördügümde çok mutlu oldum.\"\n",
    "```\n",
    "\n",
    "### Spell Checking\n",
    "We use the ``check_spelling`` method to check and correct the spelling of the sample text.\n",
    "\n",
    "```python \n",
    "\n",
    "corrected_text = spell_checker.check_spelling(sample_text)\n",
    "print(\"Corrected Text:\", corrected_text)\n",
    "\n",
    "```\n",
    "\n",
    "This method returns the corrected version of the text, fixing any spelling mistakes found.\n",
    "\n",
    "### Comparison with Another Dataset\n",
    "\n",
    "For comparison, we can also check and correct the spelling using the 'hrzafer' dataset by specifying the `checker_type` parameter.\n",
    "\n",
    "```python\n",
    "corrected_text_hrzafer = spell_checker.check_spelling(sample_text, checker_type='hrzafer')\n",
    "print(\"Corrected Text using 'hrzafer':\", corrected_text_hrzafer)\n",
    "```"
   ]
  },
  {
   "cell_type": "code",
   "execution_count": 1,
   "metadata": {},
   "outputs": [],
   "source": [
    "# ex\n",
    "from mintlemon.turkish_spellcheck import TurkishSpellChecker"
   ]
  },
  {
   "cell_type": "code",
   "execution_count": 2,
   "metadata": {},
   "outputs": [],
   "source": [
    "spell_checker = TurkishSpellChecker()"
   ]
  },
  {
   "cell_type": "code",
   "execution_count": 3,
   "metadata": {},
   "outputs": [],
   "source": [
    "sample_text = \"Seni gördügümde çok mutlu oldum.\""
   ]
  },
  {
   "cell_type": "code",
   "execution_count": 10,
   "metadata": {},
   "outputs": [
    {
     "name": "stdout",
     "output_type": "stream",
     "text": [
      "Corrected Text (Ours): kistli yazım hatas ekliyorum mm\n"
     ]
    }
   ],
   "source": [
    "corrected_text = spell_checker.check_spelling(sample_text)\n",
    "print(\"Corrected Text (Ours):\", corrected_text)"
   ]
  },
  {
   "cell_type": "code",
   "execution_count": 11,
   "metadata": {},
   "outputs": [
    {
     "name": "stdout",
     "output_type": "stream",
     "text": [
      "Corrected Text (Hrzafer): kistli yazım hatası ekliyorum\n"
     ]
    }
   ],
   "source": [
    "corrected_text = spell_checker.check_spelling(sample_text, checker_type=\"hrzafer\")\n",
    "print(\"Corrected Text (Hrzafer):\", corrected_text)"
   ]
  }
 ],
 "metadata": {
  "kernelspec": {
   "display_name": "venv",
   "language": "python",
   "name": "python3"
  },
  "language_info": {
   "codemirror_mode": {
    "name": "ipython",
    "version": 3
   },
   "file_extension": ".py",
   "mimetype": "text/x-python",
   "name": "python",
   "nbconvert_exporter": "python",
   "pygments_lexer": "ipython3",
   "version": "3.9.6"
  }
 },
 "nbformat": 4,
 "nbformat_minor": 2
}
