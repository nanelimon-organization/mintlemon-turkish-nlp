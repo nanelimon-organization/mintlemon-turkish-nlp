{
 "cells": [
  {
   "attachments": {},
   "cell_type": "markdown",
   "metadata": {},
   "source": [
    "# Convert_Numbers_to_Turkish_Text\n",
    "\n",
    "---\n",
    "\n",
    "### Use Case: Convert numbers in a tr text to words\n",
    "\n",
    "**Description:**\n",
    "This use case demonstrates how the `num_to_tr_text` function can be used to convert numbers in a given text to words in the Turkish language. The function uses regular expressions to find and extract numbers in the text and then uses the `number_to_word` function to convert the numbers to words. If the number is too large, a warning is issued. If the decimal number is represented by a period, a warning is issued as well.\n",
    "\n",
    "---\n",
    "\n",
    "**Example Scenario 1:**\n",
    "Let's consider a scenario where a user has a text containing numbers and wants to convert those numbers to words. The user wants to utilize the `num_to_tr_text` function from the `Normalizer` class provided by the `mintlemon` library.\n",
    "\n",
    "**Step-by-Step Execution:**\n",
    "1. Import the `Normalizer` class from the `mintlemon` library.\n",
    "   ```python\n",
    "   from mintlemon import Normalizer\n",
    "    ```\n",
    "\n",
    "2. Prepare a text that contains numbers.\n",
    "    ```python\n",
    "    text = \"2021 yılında, İstanbul toplam nüfusu 15840900\"\n",
    "    ```\n",
    "\n",
    "3. Call the `num_to_tr_text` method of the `Normalizer` class, passing the text as the argument.\n",
    "\n",
    "    ```python\n",
    "    result = Normalizer.num_to_tr_text(text)\n",
    "    ```\n",
    "\n",
    "4. The `num_to_tr_text` method finds and extracts numbers from the text, converts them to words using the `number_to_word` function, and returns the modified text.\n",
    "\n",
    "5. The resulting text with numbers converted to words is now stored in the `result` variable.\n",
    "\n",
    "    ```python\n",
    "    print(result.split())\n",
    "    ````\n",
    "6. **Output:**\n",
    "    > ['iki', 'bin', 'yirmi', 'bir', 'yılında', 'virgül', 'İstanbul', 'toplam', 'nüfusu', 'on', 'beş', 'milyon', 'sekiz', 'yüz', 'kırk', 'bin', 'dokuz', 'yüz']\n",
    "\n",
    "In this use case, the `num_to_tr_text` function is used to convert numbers in a given text to words in the Turkish language. The function ensures accurate conversion and provides warnings if the number is too large or if the decimal number is represented by a period.\n",
    "\n",
    "---\n",
    "\n",
    "**Example Scenario 2:**\n",
    "Let's consider a scenario where a user has a text containing numbers represented by periods for decimal numbers. The user wants to convert those numbers to words in the Turkish language and is aware that decimal numbers should be represented by commas. The user wants to utilize the `num_to_tr_text` function from the `Normalizer` class provided by the `mintlemon` library.\n",
    "\n",
    "**Step-by-Step Execution:**\n",
    "1. Import the `Normalizer` class from the `mintlemon` library.\n",
    "   ```python\n",
    "   from mintlemon import Normalizer\n",
    "   ```\n",
    "\n",
    "2. Prepare a text that contains numbers represented by periods for decimal numbers.\n",
    "    ```python\n",
    "    text = \"2021 İstanbul toplam nüfusu: 15.840.900\"\n",
    "    ```\n",
    "\n",
    "3. Call the `num_to_tr_text` method of the `Normalizer` class, passing the text as the argument.\n",
    "\n",
    "    ```python\n",
    "    result = Normalizer.num_to_tr_text(text)\n",
    "    ```\n",
    "\n",
    "4. The `num_to_tr_text` method finds and extracts numbers from the text, converts them to words using the `number_to_word` function, and returns the modified text. If a decimal number is represented by a period, a warning is issued.\n",
    "\n",
    "5. The resulting text with numbers converted to words is now stored in the `result` variable.\n",
    "\n",
    "    ```python\n",
    "    print(result.split())\n",
    "    ```\n",
    "\n",
    "6. **Output:**\n",
    "    > ['iki', 'bin', 'yirmi', 'bir', 'İstanbul', 'toplam', 'nüfusu:', 'on', 'beş']\n",
    "/Users/koc/mintlemon-turkish-nlp/mintlemon/normalizer/normalizer.py:158: UserWarning: In Turkish language, decimal numbers are expressed with commas.\n",
    "  return warnings.warn()\n",
    "\n",
    "In this use case, the `num_to_tr_text` function is used to convert numbers in a given text to words in the Turkish language. The function ensures accurate conversion and provides a warning if a decimal number is represented by a period instead of a comma, which is the correct representation in Turkish.\n",
    "\n",
    "---\n",
    "\n",
    "**Example Scenario 3:**\n",
    "Let's consider a scenario where a user has a text containing a number that is too large to be converted to words in the Turkish language. The user wants to convert the numbers to words and expects a warning to be issued. The user wants to utilize the `num_to_tr_text` function from the `Normalizer` class provided by the `mintlemon` library.\n",
    "\n",
    "**Step-by-Step Execution:**\n",
    "1. Import the `Normalizer` class from the `mintlemon` library.\n",
    "   ```python\n",
    "   from mintlemon import Normalizer\n",
    "   ```\n",
    "\n",
    "2. Prepare a text that contains a number that is too large.\n",
    "    ```python\n",
    "    text = \"2021 İstanbul toplam nüfusu: 1500008400900000000000\"\n",
    "    ```\n",
    "\n",
    "3. Call the `num_to_tr_text` method of the `Normalizer` class, passing the text as the argument.\n",
    "\n",
    "    ```python\n",
    "    result = Normalizer.num_to_tr_text(text)\n",
    "    ```\n",
    "\n",
    "4. The ``num_to_tr_text`` method finds and extracts numbers from the text, converts them to words using the `number_to_word` function, and returns the modified text. If the number is too large, a warning is issued.\n",
    "\n",
    "5. The resulting text with numbers converted to words is now stored in the `result` variable.\n",
    "\n",
    "    ```python\n",
    "    print(result.split())\n",
    "    ```\n",
    "\n",
    "6. **Output:**\n",
    "    > ['iki', 'bin', 'yirmi', 'bir', 'İstanbul', 'toplam', 'nüfusu:']\n",
    "/Users/koc/mintlemon-turkish-nlp/mintlemon/normalizer/normalizer.py:152: UserWarning: The number is too big to convert it to words in the Turkish language.\n",
    "  return warnings.warn()\n",
    "\n",
    "In this use case, the `num_to_tr_text` function is used to convert numbers in a given text to words in the Turkish language. The function ensures accurate conversion and provides a warning if the number is too large to be converted to words in Turkish.\n",
    "\n",
    "----"
   ]
  },
  {
   "cell_type": "code",
   "execution_count": 1,
   "metadata": {},
   "outputs": [
    {
     "name": "stdout",
     "output_type": "stream",
     "text": [
      "['iki', 'bin', 'yirmi', 'bir', 'yılında', 'virgül', 'İstanbul', 'toplam', 'nüfusu', 'on', 'beş', 'milyon', 'sekiz', 'yüz', 'kırk', 'bin', 'dokuz', 'yüz']\n"
     ]
    }
   ],
   "source": [
    "from mintlemon import Normalizer\n",
    "\n",
    "result = Normalizer.num_to_tr_text(\"2021 yılında, İstanbul toplam nüfusu 15840900\")\n",
    "print(result.split())"
   ]
  },
  {
   "cell_type": "code",
   "execution_count": 3,
   "metadata": {},
   "outputs": [
    {
     "name": "stdout",
     "output_type": "stream",
     "text": [
      "['iki', 'bin', 'yirmi', 'bir', 'İstanbul', 'toplam', 'nüfusu:', 'on', 'beş']\n"
     ]
    },
    {
     "name": "stderr",
     "output_type": "stream",
     "text": [
      "/Users/koc/mintlemon-turkish-nlp/mintlemon/normalizer/normalizer.py:159: UserWarning: In Turkish language, decimal numbers are expressed with commas.\n",
      "  return warnings.warn(\n"
     ]
    }
   ],
   "source": [
    "from mintlemon import Normalizer\n",
    "\n",
    "text = \"2021 İstanbul toplam nüfusu: 15.840.900\"\n",
    "\n",
    "# catch warning\n",
    "result = Normalizer.num_to_tr_text(text)\n",
    "print(result.split())"
   ]
  },
  {
   "cell_type": "code",
   "execution_count": 4,
   "metadata": {},
   "outputs": [
    {
     "name": "stdout",
     "output_type": "stream",
     "text": [
      "['iki', 'bin', 'yirmi', 'bir', 'İstanbul', 'toplam', 'nüfusu:']\n"
     ]
    },
    {
     "name": "stderr",
     "output_type": "stream",
     "text": [
      "/Users/koc/mintlemon-turkish-nlp/mintlemon/normalizer/normalizer.py:153: UserWarning: The number is too big to convert it to words in Turkish language.\n",
      "  return warnings.warn(\n"
     ]
    }
   ],
   "source": [
    "from mintlemon import Normalizer\n",
    "\n",
    "# catch warning\n",
    "result = Normalizer.num_to_tr_text(\"2021 İstanbul toplam nüfusu: 1500008400900000000000\")\n",
    "print(result.split())"
   ]
  },
  {
   "cell_type": "markdown",
   "metadata": {},
   "source": []
  }
 ],
 "metadata": {
  "kernelspec": {
   "display_name": "venv",
   "language": "python",
   "name": "python3"
  },
  "language_info": {
   "codemirror_mode": {
    "name": "ipython",
    "version": 3
   },
   "file_extension": ".py",
   "mimetype": "text/x-python",
   "name": "python",
   "nbconvert_exporter": "python",
   "pygments_lexer": "ipython3",
   "version": "3.9.6"
  },
  "orig_nbformat": 4
 },
 "nbformat": 4,
 "nbformat_minor": 2
}
